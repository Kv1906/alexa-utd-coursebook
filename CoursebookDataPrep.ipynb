{
 "cells": [
  {
   "cell_type": "code",
   "execution_count": 247,
   "metadata": {},
   "outputs": [],
   "source": [
    "import urllib.request as urllib2\n",
    "\n",
    "from bs4 import BeautifulSoup"
   ]
  },
  {
   "cell_type": "code",
   "execution_count": 305,
   "metadata": {},
   "outputs": [],
   "source": [
    "url = 'https://coursebook.utdallas.edu/cs6375'"
   ]
  },
  {
   "cell_type": "code",
   "execution_count": 306,
   "metadata": {},
   "outputs": [
    {
     "data": {
      "text/plain": [
       "<http.client.HTTPResponse at 0x162a6d941d0>"
      ]
     },
     "execution_count": 306,
     "metadata": {},
     "output_type": "execute_result"
    }
   ],
   "source": [
    "page = urllib2.urlopen(url)\n",
    "page"
   ]
  },
  {
   "cell_type": "code",
   "execution_count": 307,
   "metadata": {
    "scrolled": false
   },
   "outputs": [],
   "source": [
    "soup = BeautifulSoup(page, 'html.parser')"
   ]
  },
  {
   "cell_type": "code",
   "execution_count": 309,
   "metadata": {},
   "outputs": [
    {
     "ename": "IndexError",
     "evalue": "list index out of range",
     "output_type": "error",
     "traceback": [
      "\u001b[1;31m---------------------------------------------------------------------------\u001b[0m",
      "\u001b[1;31mIndexError\u001b[0m                                Traceback (most recent call last)",
      "\u001b[1;32m<ipython-input-309-8a76fd1e7835>\u001b[0m in \u001b[0;36m<module>\u001b[1;34m\u001b[0m\n\u001b[1;32m----> 1\u001b[1;33m \u001b[0mtableData\u001b[0m \u001b[1;33m=\u001b[0m \u001b[0msoup\u001b[0m\u001b[1;33m.\u001b[0m\u001b[0mfind_all\u001b[0m\u001b[1;33m(\u001b[0m\u001b[0mattrs\u001b[0m\u001b[1;33m=\u001b[0m\u001b[1;33m{\u001b[0m\u001b[1;34m'class'\u001b[0m\u001b[1;33m:\u001b[0m\u001b[1;34m'courseinfo__classsubtable'\u001b[0m\u001b[1;33m}\u001b[0m\u001b[1;33m)\u001b[0m\u001b[1;33m[\u001b[0m\u001b[1;36m0\u001b[0m\u001b[1;33m]\u001b[0m\u001b[1;33m.\u001b[0m\u001b[0mtext\u001b[0m\u001b[1;33m.\u001b[0m\u001b[0mlower\u001b[0m\u001b[1;33m(\u001b[0m\u001b[1;33m)\u001b[0m\u001b[1;33m.\u001b[0m\u001b[0mreplace\u001b[0m\u001b[1;33m(\u001b[0m\u001b[1;34m\" \"\u001b[0m\u001b[1;33m,\u001b[0m\u001b[1;34m\"\"\u001b[0m\u001b[1;33m)\u001b[0m\u001b[1;33m.\u001b[0m\u001b[0mreplace\u001b[0m\u001b[1;33m(\u001b[0m\u001b[1;34m\"\\n\\n\\n\"\u001b[0m\u001b[1;33m,\u001b[0m\u001b[1;34m\",\"\u001b[0m\u001b[1;33m)\u001b[0m\u001b[1;33m.\u001b[0m\u001b[0mreplace\u001b[0m\u001b[1;33m(\u001b[0m\u001b[1;34m\",\\n\"\u001b[0m\u001b[1;33m,\u001b[0m\u001b[1;34m\"\"\u001b[0m\u001b[1;33m)\u001b[0m\u001b[1;33m.\u001b[0m\u001b[0msplit\u001b[0m\u001b[1;33m(\u001b[0m\u001b[1;34m\"\\n\"\u001b[0m\u001b[1;33m)\u001b[0m\u001b[1;33m\u001b[0m\u001b[1;33m\u001b[0m\u001b[0m\n\u001b[0m\u001b[0;32m      2\u001b[0m \u001b[1;33m\u001b[0m\u001b[0m\n\u001b[0;32m      3\u001b[0m \u001b[0mclassSection\u001b[0m \u001b[1;33m=\u001b[0m \u001b[0mtableData\u001b[0m\u001b[1;33m[\u001b[0m\u001b[1;36m0\u001b[0m\u001b[1;33m]\u001b[0m\u001b[1;33m.\u001b[0m\u001b[0msplit\u001b[0m\u001b[1;33m(\u001b[0m\u001b[1;34m\",\"\u001b[0m\u001b[1;33m)\u001b[0m\u001b[1;33m[\u001b[0m\u001b[1;36m1\u001b[0m\u001b[1;33m]\u001b[0m\u001b[1;33m.\u001b[0m\u001b[0msplit\u001b[0m\u001b[1;33m(\u001b[0m\u001b[1;34m\".\"\u001b[0m\u001b[1;33m)\u001b[0m\u001b[1;33m\u001b[0m\u001b[1;33m\u001b[0m\u001b[0m\n\u001b[0;32m      4\u001b[0m \u001b[1;33m\u001b[0m\u001b[0m\n\u001b[0;32m      5\u001b[0m \u001b[0mclassID\u001b[0m \u001b[1;33m=\u001b[0m \u001b[0mclassSection\u001b[0m\u001b[1;33m[\u001b[0m\u001b[1;36m0\u001b[0m\u001b[1;33m]\u001b[0m\u001b[1;33m\u001b[0m\u001b[1;33m\u001b[0m\u001b[0m\n",
      "\u001b[1;31mIndexError\u001b[0m: list index out of range"
     ]
    }
   ],
   "source": [
    "tableData = soup.find_all(attrs={'class':'courseinfo__classsubtable'})[0].text.lower().replace(\" \",\"\").replace(\"\\n\\n\\n\",\",\").replace(\",\\n\",\"\").split(\"\\n\")\n",
    "\n",
    "classSection = tableData[0].split(\",\")[1].split(\".\")\n",
    "\n",
    "classID = classSection[0]\n",
    "\n",
    "sectionID = classSection[1]\n",
    "\n",
    "termID = classSection[2]\n",
    "\n",
    "termYear = \"20\" + termID[:2]\n",
    "\n",
    "termID=termID[2:]\n",
    "\n",
    "if termID=='s':\n",
    "\n",
    "    termID=\"spring\"\n",
    "\n",
    "elif termID=='u':\n",
    "\n",
    "    termID=\"summer\"\n",
    "\n",
    "else:\n",
    "\n",
    "    termID=\"fall\"\n",
    "\n",
    "instructionMode = tableData[0].split(\",\")[3][0]\n",
    "\n",
    "if instructionMode != 'o':\n",
    "\n",
    "   instructionMode = 'regular'\n",
    "\n",
    "else:\n",
    "\n",
    "    instructionMode=\"online\"\n",
    "\n",
    "classLevel = tableData[1].split(\",\")[1]\n",
    "\n",
    "activityType = tableData[1].split(\",\")[3]\n",
    "\n",
    "if \"in\" in activityType:\n",
    "\n",
    "    activityType = \"independent study\"\n",
    "\n",
    "elif \"plus\" in activityType:\n",
    "\n",
    "    activityType = \"lecture plus lab\"\n",
    "\n",
    "semesterCreditHours = tableData[2].split(\",\")[1]\n",
    "\n",
    "class_course_number = tableData[2].split(\",\")[3].split(\"/\")\n",
    "\n",
    "classNumber = class_course_number[0]\n",
    "\n",
    "courseNumber = class_course_number[1]\n",
    "\n",
    "consent = tableData[4].split(\",\")[1][0]\n",
    "\n",
    "if consent != 'n':\n",
    "\n",
    "   consent = 'y'\n",
    "\n",
    "if classID[2]=='1':\n",
    "\n",
    "    classSubLevel=\"freshman\"\n",
    "\n",
    "elif classID[2]=='2':\n",
    "\n",
    "    classSubLevel=\"sophomore\"\n",
    "\n",
    "elif classID[2]=='3':\n",
    "\n",
    "    classSubLevel=\"junior\"\n",
    "\n",
    "elif classID[2]=='4':\n",
    "\n",
    "    classSubLevel=\"senior\"\n",
    "\n",
    "elif classID[2]=='5':\n",
    "\n",
    "    classSubLevel=\"graduate\"\n",
    "\n",
    "elif classID[2]=='6':\n",
    "\n",
    "    classSubLevel=\"graduate\"\n",
    "\n",
    "else:\n",
    "\n",
    "    classSubLevel=\"phd\"\n",
    "\n",
    "print(classID)\n",
    "print(sectionID)\n",
    "print(termID)\n",
    "print(instructionMode)\n",
    "print(classLevel)\n",
    "print(activityType)\n",
    "print(semesterCreditHours)\n",
    "print(classNumber)\n",
    "print(courseNumber)\n",
    "print(consent)\n",
    "print(classSubLevel)"
   ]
  },
  {
   "cell_type": "code",
   "execution_count": 291,
   "metadata": {},
   "outputs": [
    {
     "name": "stdout",
     "output_type": "stream",
     "text": [
      "open\n",
      "1\n",
      "0\n"
     ]
    }
   ],
   "source": [
    "import re\n",
    "for elem in soup.find_all(text=re.compile(\"Class Status\")):\n",
    "    status=elem.parent.parent.text.replace(\"  \",\"\")\n",
    "    waitlistIndex=status.index(\"Waitlist:\")\n",
    "    if \"closed\" not in status.lower():\n",
    "        classStatus=\"open\"\n",
    "        waitlist=status[waitlistIndex+10:].strip()\n",
    "        if status[41]!=' ':\n",
    "            seats=status[40:42]\n",
    "        else:\n",
    "            seats=status[40]\n",
    "    else:\n",
    "        classStatus=\"closed\"\n",
    "        index=status.index(\"Available Seats:\")\n",
    "        waitlist=status[waitlistIndex+10:].strip()\n",
    "        if status[42]!=' ':\n",
    "            seats=status[41:43]\n",
    "        else:\n",
    "            seats=status[41]\n",
    "print(classStatus)\n",
    "print(seats)\n",
    "print(waitlist)"
   ]
  },
  {
   "cell_type": "code",
   "execution_count": 254,
   "metadata": {},
   "outputs": [
    {
     "data": {
      "text/plain": [
       "'CS 3341 or SE 3341 or STAT 3341 or equivalent.'"
      ]
     },
     "execution_count": 254,
     "metadata": {},
     "output_type": "execute_result"
    }
   ],
   "source": [
    "prereqs=soup.find_all(attrs={'id':'course_requirements'})[0].text[14:]\n",
    "prereqs"
   ]
  },
  {
   "cell_type": "code",
   "execution_count": 256,
   "metadata": {},
   "outputs": [
    {
     "name": "stdout",
     "output_type": "stream",
     "text": [
      "Cuneyt Akcora\n",
      "cxa123230@utdallas.edu\n"
     ]
    }
   ],
   "source": [
    "instructors=soup.find_all(attrs={'id':'inst-1'})\n",
    "\n",
    "instructorSplit=instructors[0].text.lstrip().split(\"email:\")\n",
    "\n",
    "instructorName=instructorSplit[0].rstrip()\n",
    "\n",
    "instructorEmail=instructorSplit[1].strip()\n",
    "\n",
    "print(instructorName)\n",
    "\n",
    "print(instructorEmail)"
   ]
  },
  {
   "cell_type": "code",
   "execution_count": 304,
   "metadata": {},
   "outputs": [
    {
     "ename": "IndexError",
     "evalue": "list index out of range",
     "output_type": "error",
     "traceback": [
      "\u001b[1;31m---------------------------------------------------------------------------\u001b[0m",
      "\u001b[1;31mIndexError\u001b[0m                                Traceback (most recent call last)",
      "\u001b[1;32m<ipython-input-304-9c404f7384eb>\u001b[0m in \u001b[0;36m<module>\u001b[1;34m\u001b[0m\n\u001b[0;32m      1\u001b[0m \u001b[1;32mfrom\u001b[0m \u001b[0mdatetime\u001b[0m \u001b[1;32mimport\u001b[0m \u001b[0mdatetime\u001b[0m\u001b[1;33m\u001b[0m\u001b[1;33m\u001b[0m\u001b[0m\n\u001b[0;32m      2\u001b[0m \u001b[1;33m\u001b[0m\u001b[0m\n\u001b[1;32m----> 3\u001b[1;33m \u001b[0mtableData\u001b[0m \u001b[1;33m=\u001b[0m \u001b[0mstr\u001b[0m\u001b[1;33m(\u001b[0m\u001b[0msoup\u001b[0m\u001b[1;33m.\u001b[0m\u001b[0mfind_all\u001b[0m\u001b[1;33m(\u001b[0m\u001b[0mattrs\u001b[0m\u001b[1;33m=\u001b[0m\u001b[1;33m{\u001b[0m\u001b[1;34m'class'\u001b[0m\u001b[1;33m:\u001b[0m\u001b[1;34m'courseinfo__meeting-time'\u001b[0m\u001b[1;33m}\u001b[0m\u001b[1;33m)\u001b[0m\u001b[1;33m[\u001b[0m\u001b[1;36m0\u001b[0m\u001b[1;33m]\u001b[0m\u001b[1;33m)\u001b[0m\u001b[1;33m.\u001b[0m\u001b[0mlower\u001b[0m\u001b[1;33m(\u001b[0m\u001b[1;33m)\u001b[0m\u001b[1;33m.\u001b[0m\u001b[0msplit\u001b[0m\u001b[1;33m(\u001b[0m\u001b[1;34m\"<br/>\"\u001b[0m\u001b[1;33m)\u001b[0m\u001b[1;33m\u001b[0m\u001b[1;33m\u001b[0m\u001b[0m\n\u001b[0m\u001b[0;32m      4\u001b[0m \u001b[1;33m\u001b[0m\u001b[0m\n\u001b[0;32m      5\u001b[0m \u001b[0mstartDate\u001b[0m \u001b[1;33m=\u001b[0m \u001b[0mdatetime\u001b[0m\u001b[1;33m.\u001b[0m\u001b[0mstrptime\u001b[0m\u001b[1;33m(\u001b[0m\u001b[0mtableData\u001b[0m\u001b[1;33m[\u001b[0m\u001b[1;36m0\u001b[0m\u001b[1;33m]\u001b[0m\u001b[1;33m.\u001b[0m\u001b[0msplit\u001b[0m\u001b[1;33m(\u001b[0m\u001b[1;34m\"<b>\"\u001b[0m\u001b[1;33m)\u001b[0m\u001b[1;33m[\u001b[0m\u001b[1;36m1\u001b[0m\u001b[1;33m]\u001b[0m\u001b[1;33m.\u001b[0m\u001b[0mreplace\u001b[0m\u001b[1;33m(\u001b[0m\u001b[1;34m\"</b>\"\u001b[0m\u001b[1;33m,\u001b[0m\u001b[1;34m\"\"\u001b[0m\u001b[1;33m)\u001b[0m\u001b[1;33m.\u001b[0m\u001b[0msplit\u001b[0m\u001b[1;33m(\u001b[0m\u001b[1;34m\"-\"\u001b[0m\u001b[1;33m)\u001b[0m\u001b[1;33m[\u001b[0m\u001b[1;36m0\u001b[0m\u001b[1;33m]\u001b[0m\u001b[1;33m,\u001b[0m \u001b[1;34m\"%B %d, %Y\"\u001b[0m\u001b[1;33m)\u001b[0m\u001b[1;33m\u001b[0m\u001b[1;33m\u001b[0m\u001b[0m\n",
      "\u001b[1;31mIndexError\u001b[0m: list index out of range"
     ]
    }
   ],
   "source": [
    "from datetime import datetime\n",
    "\n",
    "tableData = str(soup.find_all(attrs={'class':'courseinfo__meeting-time'})[0]).lower().split(\"<br/>\")\n",
    "\n",
    "startDate = datetime.strptime(tableData[0].split(\"<b>\")[1].replace(\"</b>\",\"\").split(\"-\")[0], \"%B %d, %Y\")\n",
    "\n",
    "endDate = datetime.strptime(tableData[0].split(\"<b>\")[1].replace(\"</b>\",\"\").split(\"-\")[1], \"%B %d, %Y\")\n",
    "\n",
    "weekdays = tableData[1].replace(\", \",\" & \")\n",
    "\n",
    "startTime = datetime.strptime(tableData[2].split(\"-\")[0], \"%I:%M%p\")\n",
    "\n",
    "endTime = datetime.strptime(tableData[2].split(\"-\")[1], \"%I:%M%p\")\n",
    "\n",
    "location = tableData[3].split(\">\")[1].split(\"<\")[0]\n",
    "\n",
    "print(startDate)\n",
    "print(endDate)\n",
    "print(weekdays)\n",
    "print(startTime)\n",
    "print(endTime)\n",
    "print(location)"
   ]
  },
  {
   "cell_type": "code",
   "execution_count": 258,
   "metadata": {},
   "outputs": [
    {
     "name": "stdout",
     "output_type": "stream",
     "text": [
      "Statistical Methods for Data Science\n"
     ]
    }
   ],
   "source": [
    "classTitle = soup.find_all(attrs={'class':'courseinfo__overviewtable__coursetitle'})[0].text.strip()\n",
    "print(classTitle)"
   ]
  },
  {
   "cell_type": "code",
   "execution_count": 264,
   "metadata": {},
   "outputs": [],
   "source": [
    "import pandas as pd\n",
    "dataDF = pd.DataFrame(columns = ['CourseID','Term','TermYear','Status','Section','ClassLevel','ClassNumber','ClassTitle','CourseCredits','Instructor','Days','StartTime','EndTime','Location','Consent','InstructionMode','ActivityType','Prerequisites','InstructorEmail','StartDate','EndDate','Available Seats','Waitlist','ClassSubLevel'])"
   ]
  },
  {
   "cell_type": "code",
   "execution_count": 265,
   "metadata": {},
   "outputs": [],
   "source": [
    "dataDF=dataDF.append(pd.Series([classID,termID,termYear,classStatus,sectionID,classLevel,classNumber,classTitle,semesterCreditHours,instructorName,weekdays,startTime,endTime,location,consent,instructionMode,activityType,prereqs,instructorEmail,startDate,endDate,seats,waitlist,classSubLevel],index=dataDF.columns),ignore_index=True)"
   ]
  },
  {
   "cell_type": "code",
   "execution_count": 266,
   "metadata": {},
   "outputs": [
    {
     "data": {
      "text/html": [
       "<div>\n",
       "<style scoped>\n",
       "    .dataframe tbody tr th:only-of-type {\n",
       "        vertical-align: middle;\n",
       "    }\n",
       "\n",
       "    .dataframe tbody tr th {\n",
       "        vertical-align: top;\n",
       "    }\n",
       "\n",
       "    .dataframe thead th {\n",
       "        text-align: right;\n",
       "    }\n",
       "</style>\n",
       "<table border=\"1\" class=\"dataframe\">\n",
       "  <thead>\n",
       "    <tr style=\"text-align: right;\">\n",
       "      <th></th>\n",
       "      <th>CourseID</th>\n",
       "      <th>Term</th>\n",
       "      <th>TermYear</th>\n",
       "      <th>Status</th>\n",
       "      <th>Section</th>\n",
       "      <th>ClassLevel</th>\n",
       "      <th>ClassNumber</th>\n",
       "      <th>ClassTitle</th>\n",
       "      <th>CourseCredits</th>\n",
       "      <th>Instructor</th>\n",
       "      <th>...</th>\n",
       "      <th>Consent</th>\n",
       "      <th>InstructionMode</th>\n",
       "      <th>ActivityType</th>\n",
       "      <th>Prerequisites</th>\n",
       "      <th>InstructorEmail</th>\n",
       "      <th>StartDate</th>\n",
       "      <th>EndDate</th>\n",
       "      <th>Available Seats</th>\n",
       "      <th>Waitlist</th>\n",
       "      <th>ClassSubLevel</th>\n",
       "    </tr>\n",
       "  </thead>\n",
       "  <tbody>\n",
       "    <tr>\n",
       "      <th>0</th>\n",
       "      <td>cs6313</td>\n",
       "      <td>spring</td>\n",
       "      <td>2019</td>\n",
       "      <td>open</td>\n",
       "      <td>501</td>\n",
       "      <td>graduate</td>\n",
       "      <td>24334</td>\n",
       "      <td>Statistical Methods for Data Science</td>\n",
       "      <td>3</td>\n",
       "      <td>Cuneyt Akcora</td>\n",
       "      <td>...</td>\n",
       "      <td>n</td>\n",
       "      <td>regular</td>\n",
       "      <td>lecture</td>\n",
       "      <td>CS 3341 or SE 3341 or STAT 3341 or equivalent.</td>\n",
       "      <td>cxa123230@utdallas.edu</td>\n",
       "      <td>2019-01-14</td>\n",
       "      <td>2019-05-03</td>\n",
       "      <td>3</td>\n",
       "      <td>0</td>\n",
       "      <td>graduate</td>\n",
       "    </tr>\n",
       "  </tbody>\n",
       "</table>\n",
       "<p>1 rows × 24 columns</p>\n",
       "</div>"
      ],
      "text/plain": [
       "  CourseID    Term TermYear Status Section ClassLevel ClassNumber  \\\n",
       "0   cs6313  spring     2019   open     501   graduate       24334   \n",
       "\n",
       "                             ClassTitle CourseCredits     Instructor  \\\n",
       "0  Statistical Methods for Data Science             3  Cuneyt Akcora   \n",
       "\n",
       "       ...      Consent InstructionMode ActivityType  \\\n",
       "0      ...            n         regular      lecture   \n",
       "\n",
       "                                    Prerequisites         InstructorEmail  \\\n",
       "0  CS 3341 or SE 3341 or STAT 3341 or equivalent.  cxa123230@utdallas.edu   \n",
       "\n",
       "   StartDate    EndDate Available Seats Waitlist ClassSubLevel  \n",
       "0 2019-01-14 2019-05-03               3        0      graduate  \n",
       "\n",
       "[1 rows x 24 columns]"
      ]
     },
     "execution_count": 266,
     "metadata": {},
     "output_type": "execute_result"
    }
   ],
   "source": [
    "dataDF"
   ]
  },
  {
   "cell_type": "code",
   "execution_count": 267,
   "metadata": {},
   "outputs": [
    {
     "name": "stdout",
     "output_type": "stream",
     "text": [
      "['CS6375.001.19S', 'CS6375.002.19S', 'CS6375.003.19S', 'CS6375.004.19S', 'CS6375.005.19S']\n"
     ]
    }
   ],
   "source": [
    "requiredCourses=[]\n",
    "\n",
    "url2 = 'https://coursebook.utdallas.edu/cs6375'\n",
    "\n",
    "page2 = urllib2.urlopen(url2)\n",
    "\n",
    "soup2 = BeautifulSoup(page2, 'html.parser')\n",
    "\n",
    "for eachtbody in soup2.find_all('tbody'):\n",
    "\n",
    "  row = eachtbody.find_all('tr')\n",
    "\n",
    "  for eachtr in row:\n",
    "\n",
    "    item = eachtr.find_all('td')\n",
    "\n",
    "    requiredCourses.append(item[1].text.replace(\" \", \"\")[:10]+\".\"+item[0].text.strip()[:3])\n",
    "    \n",
    "print(requiredCourses)"
   ]
  },
  {
   "cell_type": "code",
   "execution_count": null,
   "metadata": {},
   "outputs": [],
   "source": []
  }
 ],
 "metadata": {
  "kernelspec": {
   "display_name": "Python 3",
   "language": "python",
   "name": "python3"
  },
  "language_info": {
   "codemirror_mode": {
    "name": "ipython",
    "version": 3
   },
   "file_extension": ".py",
   "mimetype": "text/x-python",
   "name": "python",
   "nbconvert_exporter": "python",
   "pygments_lexer": "ipython3",
   "version": "3.7.1"
  }
 },
 "nbformat": 4,
 "nbformat_minor": 2
}
